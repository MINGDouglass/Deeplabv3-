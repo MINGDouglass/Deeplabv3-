{
 "cells": [
  {
   "cell_type": "code",
   "execution_count": 1,
   "id": "21e93f93",
   "metadata": {},
   "outputs": [],
   "source": [
    "import os\n",
    "import time\n",
    "import datetime\n",
    "import numpy as np\n",
    "from PIL import Image\n",
    "from tqdm import tqdm\n",
    "from multiprocessing import Pool\n",
    "import csv"
   ]
  },
  {
   "cell_type": "code",
   "execution_count": 2,
   "id": "f626f545",
   "metadata": {},
   "outputs": [
    {
     "name": "stdout",
     "output_type": "stream",
     "text": [
      "classes的key和value对调 {(0, 0, 0): 'static', (111, 74, 0): 'dynamic', (81, 0, 81): 'ground', (128, 64, 128): 'road', (244, 35, 232): 'sidewalk', (250, 170, 160): 'parking', (230, 150, 140): 'rail track', (70, 70, 70): 'building', (102, 102, 156): 'wall', (190, 153, 153): 'fence', (180, 165, 180): 'guard rail', (150, 100, 100): 'bridge', (150, 120, 90): 'tunnel', (153, 153, 153): 'polegroup', (250, 170, 30): 'traffic light', (220, 220, 0): 'traffic sign', (107, 142, 35): 'vegetation', (152, 251, 152): 'terrain', (70, 130, 180): 'sky', (220, 20, 60): 'person', (255, 0, 0): 'rider', (0, 0, 142): 'license plate', (0, 0, 70): 'truck', (0, 60, 100): 'bus', (0, 0, 90): 'caravan', (0, 0, 110): 'trailer', (0, 80, 100): 'train', (0, 0, 230): 'motorcycle', (119, 11, 32): 'bicycle'}\n"
     ]
    }
   ],
   "source": [
    "classes = {\n",
    "    'unlabeled':(0, 0, 0),\n",
    "    'ego vehicle':(0, 0, 0),\n",
    "    'rectification border':(0, 0, 0),\n",
    "    'out of roi':(0, 0, 0),\n",
    "    'static':(0, 0, 0),\n",
    "    'dynamic':(111, 74, 0),\n",
    "    'ground':(81, 0, 81),\n",
    "    'road':(128, 64, 128),\n",
    "    'sidewalk':(244, 35, 232),\n",
    "    'parking':(250, 170, 160),\n",
    "    'rail track':(230, 150, 140),\n",
    "    'building':(70, 70, 70),\n",
    "    'wall':(102, 102, 156),\n",
    "    'fence':(190, 153, 153),\n",
    "    'guard rail':(180, 165, 180),\n",
    "    'bridge':(150, 100, 100),\n",
    "    'tunnel': (150, 120, 90),\n",
    "    'pole':(153, 153, 153),\n",
    "    'polegroup':(153, 153, 153),\n",
    "    'traffic light': (250, 170, 30),\n",
    "    'traffic sign': (220, 220, 0),\n",
    "    'vegetation': (107, 142, 35),\n",
    "    'terrain': (152, 251, 152),\n",
    "    'sky': (70, 130, 180),\n",
    "    'person': (220, 20, 60),\n",
    "    'rider': (255, 0, 0),\n",
    "    'car':(0, 0, 142),\n",
    "    'truck':(0, 0, 70),\n",
    "    'bus':(0, 60, 100),\n",
    "    'caravan': (0, 0, 90),\n",
    "    'trailer': (0, 0, 110),\n",
    "    'train':(0, 80, 100),\n",
    "    'motorcycle': (0, 0, 230),\n",
    "    'bicycle': (119, 11, 32),\n",
    "    'license plate': (0, 0, 142),\n",
    "}\n",
    "# 将classes的key 和 value 对调\n",
    "fanzhuan_classes = {v:k for k,v in classes.items()}\n",
    "print(\"classes的key和value对调\",fanzhuan_classes)"
   ]
  },
  {
   "cell_type": "code",
   "execution_count": 3,
   "id": "ebd18691",
   "metadata": {},
   "outputs": [],
   "source": [
    "from process_image import process_image"
   ]
  },
  {
   "cell_type": "code",
   "execution_count": 4,
   "id": "bb34b662",
   "metadata": {},
   "outputs": [
    {
     "name": "stderr",
     "output_type": "stream",
     "text": [
      "100%|███████████████████████████████████████████████████████████████████████████████████████████████████████████████████████████████████████████| 129/129 [03:10<00:00,  1.48s/it]"
     ]
    },
    {
     "name": "stdout",
     "output_type": "stream",
     "text": [
      "CSV 文件 D:\\DeepLabV3Plus-Pytorch-master\\像素提取结果\\像素识别结果.csv 已创建成功！\n",
      "程序运行时间：0:00:00.015697\n"
     ]
    },
    {
     "name": "stderr",
     "output_type": "stream",
     "text": [
      "\n"
     ]
    }
   ],
   "source": [
    "if __name__ == '__main__':\n",
    "    image_folder = r\"D:\\DeepLabV3Plus-Pytorch-master\\test_results\"\n",
    "    dest_folder = r\"D:\\DeepLabV3Plus-Pytorch-master\\像素提取结果\"\n",
    "\n",
    "    # 像素提取结果放在dest_folder下面，文件名称为 像素提取结果.csv 注意：后缀.csv不能丢\n",
    "    dest_csv = os.path.join(dest_folder,\"像素识别结果.csv\")\n",
    "\n",
    "    pool = Pool()  # 创建进程池\n",
    "    args_list = [(image_folder, name) for name in os.listdir(image_folder) if name.endswith('.png')]\n",
    "    results = list(tqdm(pool.imap(process_image, args_list), total=len(args_list)))\n",
    "\n",
    "    start_time = time.time()  # 记录开始时间\n",
    "\n",
    "    # 将数据写入 CSV 文件\n",
    "    # 追加 mode = 'a'  每次都是新文件就‘w’\n",
    "    with open(dest_csv, mode='w', newline='', encoding='utf-8') as file:\n",
    "        writer = csv.writer(file)\n",
    "\n",
    "        # 写入表头\n",
    "        headers = list(results[0].keys())\n",
    "        writer.writerow(headers)\n",
    "\n",
    "        # 写入数据\n",
    "        for data in results:\n",
    "            row = [data[key] for key in headers]\n",
    "            writer.writerow(row)\n",
    "\n",
    "    print(f\"CSV 文件 {dest_csv} 已创建成功！\")\n",
    "\n",
    "    end_time = time.time()  # 记录结束时间\n",
    "    run_time_seconds = end_time - start_time  # 计算程序运行时间（秒）\n",
    "    run_time_formatted = str(datetime.timedelta(seconds=run_time_seconds))  # 格式化运行时间\n",
    "    print(f\"程序运行时间：{run_time_formatted}\")"
   ]
  },
  {
   "cell_type": "code",
   "execution_count": null,
   "id": "32ada992",
   "metadata": {},
   "outputs": [],
   "source": []
  }
 ],
 "metadata": {
  "kernelspec": {
   "display_name": "Python 3 (ipykernel)",
   "language": "python",
   "name": "python3"
  },
  "language_info": {
   "codemirror_mode": {
    "name": "ipython",
    "version": 3
   },
   "file_extension": ".py",
   "mimetype": "text/x-python",
   "name": "python",
   "nbconvert_exporter": "python",
   "pygments_lexer": "ipython3",
   "version": "3.11.7"
  }
 },
 "nbformat": 4,
 "nbformat_minor": 5
}
